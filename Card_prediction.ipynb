{
  "nbformat": 4,
  "nbformat_minor": 0,
  "metadata": {
    "colab": {
      "name": "Card_prediction.ipynb",
      "provenance": [],
      "collapsed_sections": []
    },
    "kernelspec": {
      "name": "python3",
      "display_name": "Python 3"
    },
    "language_info": {
      "name": "python"
    },
    "accelerator": "GPU"
  },
  "cells": [
    {
      "cell_type": "code",
      "metadata": {
        "colab": {
          "base_uri": "https://localhost:8080/"
        },
        "id": "8o35ubaVcO-E",
        "outputId": "cccf7e5f-6d17-4ceb-8475-5ee6cdcbc37b"
      },
      "source": [
        "from zipfile import ZipFile\n",
        "file_name = \"card.zip\"\n",
        "\n",
        "with ZipFile(file_name, 'r') as zip:\n",
        "  zip.extractall()\n",
        "  print('Done')"
      ],
      "execution_count": null,
      "outputs": [
        {
          "output_type": "stream",
          "text": [
            "Done\n"
          ],
          "name": "stdout"
        }
      ]
    },
    {
      "cell_type": "code",
      "metadata": {
        "id": "BuqbfbXLcQiR"
      },
      "source": [
        "from tensorflow.keras.preprocessing.image import ImageDataGenerator\n",
        "from tensorflow.keras.preprocessing import image\n",
        "from tensorflow.keras.optimizers import RMSprop\n",
        "import tensorflow as tf\n",
        "import matplotlib.pyplot as plt\n",
        "import cv2\n",
        "import os\n",
        "import numpy as np"
      ],
      "execution_count": null,
      "outputs": []
    },
    {
      "cell_type": "code",
      "metadata": {
        "id": "2zgi2b_VcQ-6"
      },
      "source": [
        "train=ImageDataGenerator(rescale=1/255)\n",
        "validation =ImageDataGenerator(rescale=1/255)"
      ],
      "execution_count": null,
      "outputs": []
    },
    {
      "cell_type": "code",
      "metadata": {
        "colab": {
          "base_uri": "https://localhost:8080/"
        },
        "id": "Zeiib8hKcg2S",
        "outputId": "f092309d-630b-451c-e8c1-a161dc23e427"
      },
      "source": [
        "train_dataset=train.flow_from_directory(\"/content/card/train/\",\n",
        "                                        target_size=(200,200),\n",
        "                                        batch_size=3,\n",
        "                                        class_mode='categorical')"
      ],
      "execution_count": null,
      "outputs": [
        {
          "output_type": "stream",
          "text": [
            "Found 33 images belonging to 3 classes.\n"
          ],
          "name": "stdout"
        }
      ]
    },
    {
      "cell_type": "code",
      "metadata": {
        "colab": {
          "base_uri": "https://localhost:8080/"
        },
        "id": "sYkLDybJclF5",
        "outputId": "61b1d1a9-72c2-49f5-eb87-b34a11214372"
      },
      "source": [
        "validation_dataset=train.flow_from_directory(\"/content/card/validation/\",\n",
        "                                        target_size=(200,200),\n",
        "                                        batch_size=3,\n",
        "                                        class_mode='categorical')"
      ],
      "execution_count": null,
      "outputs": [
        {
          "output_type": "stream",
          "text": [
            "Found 15 images belonging to 3 classes.\n"
          ],
          "name": "stdout"
        }
      ]
    },
    {
      "cell_type": "code",
      "metadata": {
        "colab": {
          "base_uri": "https://localhost:8080/"
        },
        "id": "Syt8aM6ndu6Z",
        "outputId": "5ff5a39d-36c9-4452-97d7-108ad12d72e9"
      },
      "source": [
        "train_dataset.class_indices"
      ],
      "execution_count": null,
      "outputs": [
        {
          "output_type": "execute_result",
          "data": {
            "text/plain": [
              "{'2': 0, '3': 1, 'A': 2}"
            ]
          },
          "metadata": {
            "tags": []
          },
          "execution_count": 6
        }
      ]
    },
    {
      "cell_type": "code",
      "metadata": {
        "colab": {
          "base_uri": "https://localhost:8080/"
        },
        "id": "EN2Ev7FYd5PR",
        "outputId": "24aae303-8ccb-4467-ef90-a34e42f19035"
      },
      "source": [
        "train_dataset.classes"
      ],
      "execution_count": null,
      "outputs": [
        {
          "output_type": "execute_result",
          "data": {
            "text/plain": [
              "array([0, 0, 0, 0, 0, 0, 0, 0, 0, 0, 0, 1, 1, 1, 1, 1, 1, 1, 1, 1, 1, 1,\n",
              "       2, 2, 2, 2, 2, 2, 2, 2, 2, 2, 2], dtype=int32)"
            ]
          },
          "metadata": {
            "tags": []
          },
          "execution_count": 7
        }
      ]
    },
    {
      "cell_type": "code",
      "metadata": {
        "id": "-2kPDoCulaaM"
      },
      "source": [
        "initializerhnormal = tf.keras.initializers.HeNormal()\n",
        "initializergorot = tf.keras.initializers.GlorotUniform()\n",
        "l_n='lecun_normal'\n"
      ],
      "execution_count": null,
      "outputs": []
    },
    {
      "cell_type": "code",
      "metadata": {
        "id": "FlfFgqnyeKNr"
      },
      "source": [
        "model=tf.keras.models.Sequential([tf.keras.layers.Conv2D(16,(3,3),activation='relu',input_shape=(200,200,3)),\n",
        "                                  tf.keras.layers.BatchNormalization(),\n",
        "                                  tf.keras.layers.MaxPool2D(3,3),\n",
        "                                  tf.keras.layers.Dropout(0.2),\n",
        "                                  #\n",
        "                                  tf.keras.layers.Conv2D(32,(3,3),activation='relu'),\n",
        "                                  tf.keras.layers.BatchNormalization(),\n",
        "                                  tf.keras.layers.MaxPool2D(3,3),\n",
        "                                  #\n",
        "                                  tf.keras.layers.Conv2D(64,(3,3),activation='relu',input_shape=(200,200,3)),\n",
        "                                  tf.keras.layers.BatchNormalization(),\n",
        "                                  tf.keras.layers.MaxPool2D(3,3),\n",
        "                                  tf.keras.layers.Dropout(0.2),\n",
        "                                   ##\n",
        "                                  tf.keras.layers.Conv2D(128,(3,3),activation='relu',input_shape=(200,200,3)),\n",
        "                                  tf.keras.layers.BatchNormalization(),\n",
        "                                  tf.keras.layers.MaxPool2D(3,3),\n",
        "                                  tf.keras.layers.Dropout(0.2),\n",
        "                                  #\n",
        "                                  tf.keras.layers.Flatten(),\n",
        "                                   ##\n",
        "                                   tf.keras.layers.Dense(512,kernel_initializer=None,activation='relu'),\n",
        "                                  #tf.keras.layers.Dropout(0.3),\n",
        "                                   tf.keras.layers.Dense(300,kernel_initializer=None,activation='relu'),\n",
        "                                  tf.keras.layers.Dropout(0.3),\n",
        "                                   tf.keras.layers.Dense(100,kernel_initializer=None,activation='relu'),\n",
        "                                  #tf.keras.layers.Dropout(0.2),\n",
        "                                   tf.keras.layers.Dense(3,kernel_initializer=None,activation='softmax'),\n",
        "                                   ])"
      ],
      "execution_count": null,
      "outputs": []
    },
    {
      "cell_type": "code",
      "metadata": {
        "id": "48kI3Qfeqv2E"
      },
      "source": [
        "opt = tf.keras.optimizers.RMSprop(learning_rate=0.001)\n",
        "adamopt=tf.keras.optimizers.Adam(\n",
        "    learning_rate=0.001, beta_1=0.9, beta_2=0.999, epsilon=1e-07, amsgrad=False,\n",
        "    name='Adam',)\n",
        "model.compile(optimizer=adamopt,\n",
        "              loss=tf.keras.losses.CategoricalCrossentropy(),\n",
        "              metrics=['accuracy'])"
      ],
      "execution_count": null,
      "outputs": []
    },
    {
      "cell_type": "code",
      "metadata": {
        "id": "U8qAzjlAumO5"
      },
      "source": [
        ""
      ],
      "execution_count": null,
      "outputs": []
    },
    {
      "cell_type": "code",
      "metadata": {
        "colab": {
          "base_uri": "https://localhost:8080/"
        },
        "id": "zjRh3y6GqERW",
        "outputId": "b2f861cc-aea6-48b5-ebf8-26a2c68bca2b"
      },
      "source": [
        "model.fit=model.fit(train_dataset,\n",
        "                    steps_per_epoch=3,\n",
        "                    epochs=50,\n",
        "                    validation_data= validation_dataset)"
      ],
      "execution_count": null,
      "outputs": [
        {
          "output_type": "stream",
          "text": [
            "Epoch 1/50\n",
            "3/3 [==============================] - 9s 366ms/step - loss: 1.6232 - accuracy: 0.0000e+00 - val_loss: 1.0986 - val_accuracy: 0.3333\n",
            "Epoch 2/50\n",
            "3/3 [==============================] - 0s 152ms/step - loss: 1.7784 - accuracy: 0.2778 - val_loss: 1.0987 - val_accuracy: 0.3333\n",
            "Epoch 3/50\n",
            "3/3 [==============================] - 0s 151ms/step - loss: 1.9476 - accuracy: 0.1806 - val_loss: 1.0996 - val_accuracy: 0.3333\n",
            "Epoch 4/50\n",
            "3/3 [==============================] - 0s 158ms/step - loss: 1.0791 - accuracy: 0.4861 - val_loss: 1.0994 - val_accuracy: 0.3333\n",
            "Epoch 5/50\n",
            "3/3 [==============================] - 0s 153ms/step - loss: 1.2246 - accuracy: 0.3333 - val_loss: 1.0999 - val_accuracy: 0.3333\n",
            "Epoch 6/50\n",
            "3/3 [==============================] - 0s 152ms/step - loss: 1.1656 - accuracy: 0.2361 - val_loss: 1.0995 - val_accuracy: 0.3333\n",
            "Epoch 7/50\n",
            "3/3 [==============================] - 0s 157ms/step - loss: 0.7526 - accuracy: 0.7222 - val_loss: 1.1000 - val_accuracy: 0.3333\n",
            "Epoch 8/50\n",
            "3/3 [==============================] - 0s 154ms/step - loss: 1.4134 - accuracy: 0.4583 - val_loss: 1.1002 - val_accuracy: 0.3333\n",
            "Epoch 9/50\n",
            "3/3 [==============================] - 0s 154ms/step - loss: 1.1535 - accuracy: 0.3333 - val_loss: 1.1008 - val_accuracy: 0.3333\n",
            "Epoch 10/50\n",
            "3/3 [==============================] - 0s 153ms/step - loss: 1.0459 - accuracy: 0.3889 - val_loss: 1.1030 - val_accuracy: 0.3333\n",
            "Epoch 11/50\n",
            "3/3 [==============================] - 0s 153ms/step - loss: 0.5070 - accuracy: 0.8889 - val_loss: 1.1047 - val_accuracy: 0.3333\n",
            "Epoch 12/50\n",
            "3/3 [==============================] - 0s 159ms/step - loss: 2.0516 - accuracy: 0.4444 - val_loss: 1.1045 - val_accuracy: 0.3333\n",
            "Epoch 13/50\n",
            "3/3 [==============================] - 0s 153ms/step - loss: 0.9420 - accuracy: 0.5694 - val_loss: 1.1052 - val_accuracy: 0.3333\n",
            "Epoch 14/50\n",
            "3/3 [==============================] - 0s 153ms/step - loss: 1.5006 - accuracy: 0.4028 - val_loss: 1.1053 - val_accuracy: 0.3333\n",
            "Epoch 15/50\n",
            "3/3 [==============================] - 0s 162ms/step - loss: 1.0262 - accuracy: 0.3750 - val_loss: 1.1070 - val_accuracy: 0.3333\n",
            "Epoch 16/50\n",
            "3/3 [==============================] - 0s 151ms/step - loss: 0.8488 - accuracy: 0.7083 - val_loss: 1.1119 - val_accuracy: 0.3333\n",
            "Epoch 17/50\n",
            "3/3 [==============================] - 0s 151ms/step - loss: 0.8256 - accuracy: 0.4306 - val_loss: 1.1172 - val_accuracy: 0.3333\n",
            "Epoch 18/50\n",
            "3/3 [==============================] - 0s 157ms/step - loss: 0.6022 - accuracy: 0.7639 - val_loss: 1.1249 - val_accuracy: 0.3333\n",
            "Epoch 19/50\n",
            "3/3 [==============================] - 0s 154ms/step - loss: 0.5309 - accuracy: 0.7222 - val_loss: 1.1326 - val_accuracy: 0.3333\n",
            "Epoch 20/50\n",
            "3/3 [==============================] - 0s 153ms/step - loss: 0.6092 - accuracy: 0.6667 - val_loss: 1.1414 - val_accuracy: 0.3333\n",
            "Epoch 21/50\n",
            "3/3 [==============================] - 0s 157ms/step - loss: 0.1762 - accuracy: 1.0000 - val_loss: 1.1534 - val_accuracy: 0.3333\n",
            "Epoch 22/50\n",
            "3/3 [==============================] - 0s 153ms/step - loss: 0.4690 - accuracy: 0.8472 - val_loss: 1.1617 - val_accuracy: 0.3333\n",
            "Epoch 23/50\n",
            "3/3 [==============================] - 0s 160ms/step - loss: 0.5240 - accuracy: 0.7639 - val_loss: 1.1671 - val_accuracy: 0.3333\n",
            "Epoch 24/50\n",
            "3/3 [==============================] - 0s 155ms/step - loss: 0.1202 - accuracy: 1.0000 - val_loss: 1.1725 - val_accuracy: 0.3333\n",
            "Epoch 25/50\n",
            "3/3 [==============================] - 0s 150ms/step - loss: 0.3327 - accuracy: 0.7222 - val_loss: 1.1793 - val_accuracy: 0.3333\n",
            "Epoch 26/50\n",
            "3/3 [==============================] - 0s 154ms/step - loss: 0.7347 - accuracy: 0.7222 - val_loss: 1.1943 - val_accuracy: 0.3333\n",
            "Epoch 27/50\n",
            "3/3 [==============================] - 0s 160ms/step - loss: 0.2715 - accuracy: 0.9444 - val_loss: 1.2118 - val_accuracy: 0.3333\n",
            "Epoch 28/50\n",
            "3/3 [==============================] - 0s 157ms/step - loss: 0.7372 - accuracy: 0.5694 - val_loss: 1.2128 - val_accuracy: 0.3333\n",
            "Epoch 29/50\n",
            "3/3 [==============================] - 0s 155ms/step - loss: 0.5286 - accuracy: 0.8056 - val_loss: 1.2018 - val_accuracy: 0.3333\n",
            "Epoch 30/50\n",
            "3/3 [==============================] - 0s 154ms/step - loss: 0.1160 - accuracy: 0.9444 - val_loss: 1.2003 - val_accuracy: 0.3333\n",
            "Epoch 31/50\n",
            "3/3 [==============================] - 0s 167ms/step - loss: 0.1616 - accuracy: 0.9444 - val_loss: 1.2077 - val_accuracy: 0.3333\n",
            "Epoch 32/50\n",
            "3/3 [==============================] - 0s 156ms/step - loss: 0.2455 - accuracy: 0.9444 - val_loss: 1.2428 - val_accuracy: 0.3333\n",
            "Epoch 33/50\n",
            "3/3 [==============================] - 0s 151ms/step - loss: 0.2216 - accuracy: 0.8472 - val_loss: 1.2895 - val_accuracy: 0.3333\n",
            "Epoch 34/50\n",
            "3/3 [==============================] - 0s 151ms/step - loss: 1.1364 - accuracy: 0.5694 - val_loss: 1.3411 - val_accuracy: 0.3333\n",
            "Epoch 35/50\n",
            "3/3 [==============================] - 0s 155ms/step - loss: 0.4381 - accuracy: 0.6667 - val_loss: 1.4149 - val_accuracy: 0.3333\n",
            "Epoch 36/50\n",
            "3/3 [==============================] - 0s 155ms/step - loss: 0.4477 - accuracy: 0.7917 - val_loss: 1.4775 - val_accuracy: 0.3333\n",
            "Epoch 37/50\n",
            "3/3 [==============================] - 0s 157ms/step - loss: 0.7940 - accuracy: 0.7500 - val_loss: 1.4735 - val_accuracy: 0.3333\n",
            "Epoch 38/50\n",
            "3/3 [==============================] - 0s 158ms/step - loss: 0.1142 - accuracy: 1.0000 - val_loss: 1.5289 - val_accuracy: 0.3333\n",
            "Epoch 39/50\n",
            "3/3 [==============================] - 0s 155ms/step - loss: 0.5353 - accuracy: 0.6667 - val_loss: 1.5730 - val_accuracy: 0.3333\n",
            "Epoch 40/50\n",
            "3/3 [==============================] - 0s 154ms/step - loss: 0.3416 - accuracy: 0.7500 - val_loss: 1.5562 - val_accuracy: 0.3333\n",
            "Epoch 41/50\n",
            "3/3 [==============================] - 0s 154ms/step - loss: 0.1122 - accuracy: 0.9444 - val_loss: 1.5431 - val_accuracy: 0.3333\n",
            "Epoch 42/50\n",
            "3/3 [==============================] - 0s 157ms/step - loss: 0.2366 - accuracy: 1.0000 - val_loss: 1.5413 - val_accuracy: 0.3333\n",
            "Epoch 43/50\n",
            "3/3 [==============================] - 0s 154ms/step - loss: 0.1961 - accuracy: 0.9444 - val_loss: 1.5716 - val_accuracy: 0.3333\n",
            "Epoch 44/50\n",
            "3/3 [==============================] - 0s 155ms/step - loss: 0.1230 - accuracy: 1.0000 - val_loss: 1.6346 - val_accuracy: 0.3333\n",
            "Epoch 45/50\n",
            "3/3 [==============================] - 0s 156ms/step - loss: 0.0321 - accuracy: 1.0000 - val_loss: 1.7071 - val_accuracy: 0.3333\n",
            "Epoch 46/50\n",
            "3/3 [==============================] - 0s 155ms/step - loss: 0.5151 - accuracy: 0.7222 - val_loss: 1.7991 - val_accuracy: 0.3333\n",
            "Epoch 47/50\n",
            "3/3 [==============================] - 0s 154ms/step - loss: 0.3530 - accuracy: 0.9444 - val_loss: 1.8552 - val_accuracy: 0.3333\n",
            "Epoch 48/50\n",
            "3/3 [==============================] - 0s 153ms/step - loss: 0.2443 - accuracy: 0.8194 - val_loss: 1.8730 - val_accuracy: 0.3333\n",
            "Epoch 49/50\n",
            "3/3 [==============================] - 0s 152ms/step - loss: 1.2301 - accuracy: 0.7222 - val_loss: 1.8163 - val_accuracy: 0.3333\n",
            "Epoch 50/50\n",
            "3/3 [==============================] - 0s 155ms/step - loss: 0.1635 - accuracy: 1.0000 - val_loss: 1.7925 - val_accuracy: 0.2667\n"
          ],
          "name": "stdout"
        }
      ]
    },
    {
      "cell_type": "code",
      "metadata": {
        "colab": {
          "base_uri": "https://localhost:8080/"
        },
        "id": "Qi_kWp36xnvf",
        "outputId": "672d7fbb-434c-4afa-eb4d-5783c9efc22c"
      },
      "source": [
        "history=tf.keras.callbacks.History()\n",
        "print(len(history.history.keys()))"
      ],
      "execution_count": null,
      "outputs": [
        {
          "output_type": "stream",
          "text": [
            "0\n"
          ],
          "name": "stdout"
        }
      ]
    },
    {
      "cell_type": "markdown",
      "metadata": {
        "id": "5aqhVFWoyAA0"
      },
      "source": [
        ""
      ]
    },
    {
      "cell_type": "code",
      "metadata": {
        "id": "JUfLawaVuBfF"
      },
      "source": [
        ""
      ],
      "execution_count": null,
      "outputs": []
    },
    {
      "cell_type": "code",
      "metadata": {
        "id": "fOCpxi0vwVyz"
      },
      "source": [
        " "
      ],
      "execution_count": null,
      "outputs": []
    }
  ]
}